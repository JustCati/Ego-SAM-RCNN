{
 "cells": [
  {
   "cell_type": "code",
   "execution_count": 1,
   "metadata": {},
   "outputs": [],
   "source": [
    "import os\n",
    "import json\n",
    "import random\n",
    "import matplotlib.pyplot as plt\n",
    "\n",
    "import torch\n",
    "from lvis import LVIS\n",
    "from PIL import Image\n",
    "from torchvision.utils import draw_bounding_boxes\n",
    "from torchvision.transforms import transforms\n",
    "from torchvision.ops import box_convert"
   ]
  },
  {
   "cell_type": "code",
   "execution_count": 2,
   "metadata": {},
   "outputs": [],
   "source": [
    "def append_categories(path_1, path_2, outPath):\n",
    "    with open(path_1, \"r\") as f:\n",
    "        eval = json.load(f)\n",
    "    with open(path_2, \"r\") as f:\n",
    "        metadata = json.load(f)\n",
    "\n",
    "    eval[\"categories\"] = metadata[\"categories\"]\n",
    "    with open(outPath, \"w\") as f:\n",
    "        json.dump(eval, f)"
   ]
  },
  {
   "cell_type": "code",
   "execution_count": 3,
   "metadata": {},
   "outputs": [],
   "source": [
    "def preprocess(json_path):\n",
    "    with open(json_path, \"r\") as f:\n",
    "        data = json.load(f)\n",
    "    for i in range(len(data[\"annotations\"])):\n",
    "        data[\"annotations\"][i][\"category_id\"] = data[\"annotations\"][i][\"_category_id\"]\n",
    "    with open(json_path, \"w\") as f:\n",
    "        json.dump(data, f)"
   ]
  },
  {
   "cell_type": "code",
   "execution_count": 4,
   "metadata": {},
   "outputs": [],
   "source": [
    "dataPath = os.path.join(os.getcwd(), \"data\", \"EgoObjects\")\n",
    "imgPath = os.path.join(dataPath, \"images\")"
   ]
  },
  {
   "cell_type": "code",
   "execution_count": 5,
   "metadata": {},
   "outputs": [],
   "source": [
    "evalPath = os.path.join(dataPath, \"ego_objects_eval.json\")\n",
    "categoriesPath = os.path.join(dataPath, \"ego_objects_metadata.json\")\n",
    "outPath = os.path.join(dataPath, \"ego_objects_eval_all.json\")\n",
    "\n",
    "if not os.path.exists(outPath):\n",
    "    append_categories(evalPath, categoriesPath, outPath)\n",
    "    preprocess(outPath)"
   ]
  },
  {
   "cell_type": "code",
   "execution_count": 6,
   "metadata": {},
   "outputs": [],
   "source": [
    "lvis = LVIS(outPath)"
   ]
  },
  {
   "cell_type": "code",
   "execution_count": 8,
   "metadata": {},
   "outputs": [
    {
     "name": "stdout",
     "output_type": "stream",
     "text": [
      "tensor([[ 41, 185,  54, 155],\n",
      "        [ 15, 242,  60, 150],\n",
      "        [247,  75,  89,  56],\n",
      "        [119,  83,  77,  45]], dtype=torch.uint8)\n",
      "tensor([[ 41, 185,  95,  84],\n",
      "        [ 15, 242,  75, 136],\n",
      "        [247,  75,  80, 131],\n",
      "        [119,  83, 196, 128]], dtype=torch.uint8)\n"
     ]
    },
    {
     "ename": "ValueError",
     "evalue": "Boxes need to be in (xmin, ymin, xmax, ymax) format. Use torchvision.ops.box_convert to convert them",
     "output_type": "error",
     "traceback": [
      "\u001b[0;31m---------------------------------------------------------------------------\u001b[0m",
      "\u001b[0;31mValueError\u001b[0m                                Traceback (most recent call last)",
      "Cell \u001b[0;32mIn[8], line 27\u001b[0m\n\u001b[1;32m     24\u001b[0m boxes \u001b[38;5;241m=\u001b[39m box_convert(boxes, \u001b[38;5;124m'\u001b[39m\u001b[38;5;124mxywh\u001b[39m\u001b[38;5;124m'\u001b[39m, \u001b[38;5;124m'\u001b[39m\u001b[38;5;124mxyxy\u001b[39m\u001b[38;5;124m'\u001b[39m)\n\u001b[1;32m     25\u001b[0m \u001b[38;5;28mprint\u001b[39m(boxes)\n\u001b[0;32m---> 27\u001b[0m img \u001b[38;5;241m=\u001b[39m \u001b[43mdraw_bounding_boxes\u001b[49m\u001b[43m(\u001b[49m\u001b[43mimg\u001b[49m\u001b[43m,\u001b[49m\u001b[43m \u001b[49m\u001b[43mboxes\u001b[49m\u001b[43m,\u001b[49m\u001b[43m \u001b[49m\u001b[43mlabels\u001b[49m\u001b[43m,\u001b[49m\u001b[43m \u001b[49m\u001b[43mcolors\u001b[49m\u001b[38;5;241;43m=\u001b[39;49m\u001b[38;5;28;43;01mNone\u001b[39;49;00m\u001b[43m,\u001b[49m\u001b[43m \u001b[49m\u001b[43mwidth\u001b[49m\u001b[38;5;241;43m=\u001b[39;49m\u001b[38;5;241;43m1\u001b[39;49m\u001b[43m)\u001b[49m\n\u001b[1;32m     28\u001b[0m plt\u001b[38;5;241m.\u001b[39mimshow(img)\n\u001b[1;32m     29\u001b[0m plt\u001b[38;5;241m.\u001b[39mshow()\n",
      "File \u001b[0;32m~/.local/share/virtualenvs/Ego-SAM-RCNN-JHmAIFds/lib/python3.12/site-packages/torch/utils/_contextlib.py:115\u001b[0m, in \u001b[0;36mcontext_decorator.<locals>.decorate_context\u001b[0;34m(*args, **kwargs)\u001b[0m\n\u001b[1;32m    112\u001b[0m \u001b[38;5;129m@functools\u001b[39m\u001b[38;5;241m.\u001b[39mwraps(func)\n\u001b[1;32m    113\u001b[0m \u001b[38;5;28;01mdef\u001b[39;00m \u001b[38;5;21mdecorate_context\u001b[39m(\u001b[38;5;241m*\u001b[39margs, \u001b[38;5;241m*\u001b[39m\u001b[38;5;241m*\u001b[39mkwargs):\n\u001b[1;32m    114\u001b[0m     \u001b[38;5;28;01mwith\u001b[39;00m ctx_factory():\n\u001b[0;32m--> 115\u001b[0m         \u001b[38;5;28;01mreturn\u001b[39;00m \u001b[43mfunc\u001b[49m\u001b[43m(\u001b[49m\u001b[38;5;241;43m*\u001b[39;49m\u001b[43margs\u001b[49m\u001b[43m,\u001b[49m\u001b[43m \u001b[49m\u001b[38;5;241;43m*\u001b[39;49m\u001b[38;5;241;43m*\u001b[39;49m\u001b[43mkwargs\u001b[49m\u001b[43m)\u001b[49m\n",
      "File \u001b[0;32m~/.local/share/virtualenvs/Ego-SAM-RCNN-JHmAIFds/lib/python3.12/site-packages/torchvision/utils.py:203\u001b[0m, in \u001b[0;36mdraw_bounding_boxes\u001b[0;34m(image, boxes, labels, colors, fill, width, font, font_size)\u001b[0m\n\u001b[1;32m    201\u001b[0m     \u001b[38;5;28;01mraise\u001b[39;00m \u001b[38;5;167;01mValueError\u001b[39;00m(\u001b[38;5;124m\"\u001b[39m\u001b[38;5;124mOnly grayscale and RGB images are supported\u001b[39m\u001b[38;5;124m\"\u001b[39m)\n\u001b[1;32m    202\u001b[0m \u001b[38;5;28;01melif\u001b[39;00m (boxes[:, \u001b[38;5;241m0\u001b[39m] \u001b[38;5;241m>\u001b[39m boxes[:, \u001b[38;5;241m2\u001b[39m])\u001b[38;5;241m.\u001b[39many() \u001b[38;5;129;01mor\u001b[39;00m (boxes[:, \u001b[38;5;241m1\u001b[39m] \u001b[38;5;241m>\u001b[39m boxes[:, \u001b[38;5;241m3\u001b[39m])\u001b[38;5;241m.\u001b[39many():\n\u001b[0;32m--> 203\u001b[0m     \u001b[38;5;28;01mraise\u001b[39;00m \u001b[38;5;167;01mValueError\u001b[39;00m(\n\u001b[1;32m    204\u001b[0m         \u001b[38;5;124m\"\u001b[39m\u001b[38;5;124mBoxes need to be in (xmin, ymin, xmax, ymax) format. Use torchvision.ops.box_convert to convert them\u001b[39m\u001b[38;5;124m\"\u001b[39m\n\u001b[1;32m    205\u001b[0m     )\n\u001b[1;32m    207\u001b[0m num_boxes \u001b[38;5;241m=\u001b[39m boxes\u001b[38;5;241m.\u001b[39mshape[\u001b[38;5;241m0\u001b[39m]\n\u001b[1;32m    209\u001b[0m \u001b[38;5;28;01mif\u001b[39;00m num_boxes \u001b[38;5;241m==\u001b[39m \u001b[38;5;241m0\u001b[39m:\n",
      "\u001b[0;31mValueError\u001b[0m: Boxes need to be in (xmin, ymin, xmax, ymax) format. Use torchvision.ops.box_convert to convert them"
     ]
    }
   ],
   "source": [
    "img_ids = lvis.imgs.keys()\n",
    "img_ids = sorted(img_ids, key=lambda x: random.random())\n",
    "\n",
    "for img_id in img_ids:\n",
    "    ann_ids = lvis.get_ann_ids(img_ids = [img_id])\n",
    "    target = lvis.load_anns(ann_ids)\n",
    "\n",
    "    path = lvis.load_imgs([img_id])[0]\n",
    "    path = str(path[\"group_id\"]) + \"_\" + str(path[\"video_id\"]) + \"_\" + str(path[\"frame_id\"]) + \".jpg\"\n",
    "    img = Image.open(os.path.join(imgPath, path)).convert('RGB')\n",
    "    img = transforms.ToTensor()(img) * 255\n",
    "    img = img.type(torch.uint8)\n",
    "    \n",
    "    nums = len(target)\n",
    "    boxes, labels = [], []\n",
    "    for i in range(nums):\n",
    "        boxes.append(target[i]['bbox'])\n",
    "        labels.append(target[i]['category_id'])\n",
    "    \n",
    "    labels = torch.tensor(labels).type(torch.uint8)\n",
    "    boxes = torch.tensor(boxes).type(torch.uint8)\n",
    "    \n",
    "    print(boxes)\n",
    "    boxes = box_convert(boxes, 'xywh', 'xyxy')\n",
    "    print(boxes)\n",
    "    \n",
    "    img = draw_bounding_boxes(img, boxes, labels, colors=None, width=1)\n",
    "    plt.imshow(img)\n",
    "    plt.show()\n",
    "    break"
   ]
  },
  {
   "cell_type": "code",
   "execution_count": null,
   "metadata": {},
   "outputs": [],
   "source": []
  }
 ],
 "metadata": {
  "kernelspec": {
   "display_name": "Ego-SAM-RCNN-JHmAIFds",
   "language": "python",
   "name": "python3"
  },
  "language_info": {
   "codemirror_mode": {
    "name": "ipython",
    "version": 3
   },
   "file_extension": ".py",
   "mimetype": "text/x-python",
   "name": "python",
   "nbconvert_exporter": "python",
   "pygments_lexer": "ipython3",
   "version": "3.12.3"
  }
 },
 "nbformat": 4,
 "nbformat_minor": 2
}
